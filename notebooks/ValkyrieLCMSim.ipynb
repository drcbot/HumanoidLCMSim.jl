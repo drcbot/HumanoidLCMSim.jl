{
 "cells": [
  {
   "cell_type": "code",
   "execution_count": 1,
   "metadata": {
    "collapsed": false
   },
   "outputs": [
    {
     "data": {
      "text/html": [
       "<div id=\"interact-js-shim\">\n",
       "    <script charset=\"utf-8\">\n",
       "(function (IPython, $, _, MathJax) {\n",
       "    $.event.special.destroyed = {\n",
       "\tremove: function(o) {\n",
       "\t    if (o.handler) {\n",
       "\t\to.handler.apply(this, arguments)\n",
       "\t    }\n",
       "\t}\n",
       "    }\n",
       "\n",
       "    var OutputArea = IPython.version >= \"4.0.0\" ? require(\"notebook/js/outputarea\").OutputArea : IPython.OutputArea;\n",
       "\n",
       "    var redrawValue = function (container, type, val) {\n",
       "\tvar selector = $(\"<div/>\");\n",
       "\tvar oa = new OutputArea(_.extend(selector, {\n",
       "\t    selector: selector,\n",
       "\t    prompt_area: true,\n",
       "\t    events: IPython.events,\n",
       "\t    keyboard_manager: IPython.keyboard_manager\n",
       "\t})); // Hack to work with IPython 2.1.0\n",
       "\n",
       "\tswitch (type) {\n",
       "\tcase \"image/png\":\n",
       "            var _src = 'data:' + type + ';base64,' + val;\n",
       "\t    $(container).find(\"img\").attr('src', _src);\n",
       "\t    break;\n",
       "\tcase \"text/latex\":\n",
       "\t\tif (MathJax){\n",
       "\t\t\tvar math = MathJax.Hub.getAllJax(container)[0];\n",
       "\t\t\tMathJax.Hub.Queue([\"Text\", math, val.replace(/^\\${1,2}|\\${1,2}$/g, '')]);\n",
       "\t\t\tbreak;\n",
       "\t\t}\n",
       "\tdefault:\n",
       "\t    var toinsert = OutputArea.append_map[type].apply(\n",
       "\t\toa, [val, {}, selector]\n",
       "\t    );\n",
       "\t    $(container).empty().append(toinsert.contents());\n",
       "\t    selector.remove();\n",
       "\t}\n",
       "    }\n",
       "\n",
       "\n",
       "    $(document).ready(function() {\n",
       "\tfunction initComm(evt, data) {\n",
       "\t    var comm_manager = data.kernel.comm_manager;\n",
       "        //_.extend(comm_manager.targets, require(\"widgets/js/widget\"))\n",
       "\t    comm_manager.register_target(\"Signal\", function (comm) {\n",
       "            comm.on_msg(function (msg) {\n",
       "                var val = msg.content.data.value;\n",
       "                $(\".signal-\" + comm.comm_id).each(function() {\n",
       "                var type = $(this).data(\"type\");\n",
       "                if (typeof(val[type]) !== \"undefined\" && val[type] !== null) {\n",
       "                    redrawValue(this, type, val[type], type);\n",
       "                }\n",
       "                });\n",
       "                delete val;\n",
       "                delete msg.content.data.value;\n",
       "            });\n",
       "\t    });\n",
       "\n",
       "\t    // coordingate with Comm and redraw Signals\n",
       "\t    // XXX: Test using Reactive here to improve performance\n",
       "\t    $([IPython.events]).on(\n",
       "\t\t'output_appended.OutputArea', function (event, type, value, md, toinsert) {\n",
       "\t\t    if (md && md.reactive) {\n",
       "                // console.log(md.comm_id);\n",
       "                toinsert.addClass(\"signal-\" + md.comm_id);\n",
       "                toinsert.data(\"type\", type);\n",
       "                // Signal back indicating the mimetype required\n",
       "                var comm_manager = IPython.notebook.kernel.comm_manager;\n",
       "                var comm = comm_manager.comms[md.comm_id];\n",
       "                comm.then(function (c) {\n",
       "                    c.send({action: \"subscribe_mime\",\n",
       "                       mime: type});\n",
       "                    toinsert.bind(\"destroyed\", function() {\n",
       "                        c.send({action: \"unsubscribe_mime\",\n",
       "                               mime: type});\n",
       "                    });\n",
       "                })\n",
       "\t\t    }\n",
       "\t    });\n",
       "\t}\n",
       "\n",
       "\ttry {\n",
       "\t    // try to initialize right away. otherwise, wait on the status_started event.\n",
       "\t    initComm(undefined, IPython.notebook);\n",
       "\t} catch (e) {\n",
       "\t    $([IPython.events]).on('kernel_created.Kernel kernel_created.Session', initComm);\n",
       "\t}\n",
       "    });\n",
       "})(IPython, jQuery, _, MathJax);\n",
       "</script>\n",
       "    <script>\n",
       "        window.interactLoadedFlag = true\n",
       "       $(\"#interact-js-shim\").bind(\"destroyed\", function () {\n",
       "           if (window.interactLoadedFlag) {\n",
       "               console.warn(\"JavaScript required by Interact will be removed if you remove this cell or run using Interact more than once.\")\n",
       "           }\n",
       "       })\n",
       "       $([IPython.events]).on(\"kernel_starting.Kernel kernel_restarting.Kernel\", function () { window.interactLoadedFlag = false })\n",
       "   </script>\n",
       "</div>"
      ]
     },
     "metadata": {},
     "output_type": "display_data"
    }
   ],
   "source": [
    "using ValkyrieLCMSim\n",
    "using RigidBodySim\n",
    "using RigidBodyDynamics\n",
    "using ValkyrieRobot\n",
    "using OrdinaryDiffEq\n",
    "using DiffEqCallbacks\n",
    "using RigidBodyTreeInspector\n",
    "using ValkyrieRobot.BipedControlUtil\n",
    "using RigidBodyDynamics.Contact"
   ]
  },
  {
   "cell_type": "code",
   "execution_count": 2,
   "metadata": {
    "collapsed": false
   },
   "outputs": [],
   "source": [
    "val = Valkyrie()\n",
    "mechanism = val.mechanism\n",
    "remove_fixed_tree_joints!(mechanism);"
   ]
  },
  {
   "cell_type": "code",
   "execution_count": 3,
   "metadata": {
    "collapsed": false
   },
   "outputs": [],
   "source": [
    "# add environment\n",
    "rootframe = root_frame(mechanism)\n",
    "ground = HalfSpace3D(Point3D(rootframe, 0., 0., 0.), FreeVector3D(rootframe, 0., 0., 1.))\n",
    "add_environment_primitive!(mechanism, ground);"
   ]
  },
  {
   "cell_type": "code",
   "execution_count": 13,
   "metadata": {
    "collapsed": false
   },
   "outputs": [
    {
     "name": "stderr",
     "output_type": "stream",
     "text": [
      "WARNING: Method definition parse_geometry(Type{T}, LightXML.XMLElement, Any) in module RigidBodyTreeInspector at /home/twan/code/RigidBodyDynamics/v0.6/RigidBodyTreeInspector/src/parse_urdf.jl:28 overwritten at /home/twan/code/RigidBodyDynamics/v0.6/RigidBodyTreeInspector/src/parse_urdf.jl:28.\n",
      "WARNING: Method definition parse_geometry(Type{T}, LightXML.XMLElement, Any, Any) in module RigidBodyTreeInspector at /home/twan/code/RigidBodyDynamics/v0.6/RigidBodyTreeInspector/src/parse_urdf.jl:28 overwritten at /home/twan/code/RigidBodyDynamics/v0.6/RigidBodyTreeInspector/src/parse_urdf.jl:28.\n"
     ]
    },
    {
     "name": "stdout",
     "output_type": "stream",
     "text": [
      "filename_in_package = \"/home/twan/code/RigidBodyDynamics/v0.6/ValkyrieRobot/deps/Valkyrie/urdf/model/meshes/pelvis/pelvis.obj\"\n",
      "ispath\n"
     ]
    },
    {
     "name": "stderr",
     "output_type": "stream",
     "text": [
      "Error encountered while loading \"/home/twan/code/RigidBodyDynamics/v0.6/ValkyrieRobot/deps/Valkyrie/urdf/model/meshes/pelvis/pelvis.obj\".\n",
      "Fatal error:\n"
     ]
    },
    {
     "ename": "LoadError",
     "evalue": "\u001b[91mArgumentError: input string is empty or only contains whitespace\u001b[39m",
     "output_type": "error",
     "traceback": [
      "\u001b[91mArgumentError: input string is empty or only contains whitespace\u001b[39m",
      ""
     ]
    }
   ],
   "source": [
    "# Create visualizer\n",
    "any_open_visualizer_windows() || (new_visualizer_window(); sleep(1));\n",
    "vis = Visualizer()[:valkyrie]\n",
    "setgeometry!(vis, mechanism, RigidBodyTreeInspector.parse_urdf(ValkyrieRobot.urdfpath(), mechanism; package_path = [ValkyrieRobot.packagepath()]))"
   ]
  },
  {
   "cell_type": "code",
   "execution_count": 11,
   "metadata": {
    "collapsed": false
   },
   "outputs": [
    {
     "data": {
      "text/plain": [
       "\"/home/twan/code/RigidBodyDynamics/v0.6/ValkyrieRobot/deps\""
      ]
     },
     "execution_count": 11,
     "metadata": {},
     "output_type": "execute_result"
    }
   ],
   "source": [
    "ValkyrieRobot.packagepath()"
   ]
  },
  {
   "cell_type": "code",
   "execution_count": 5,
   "metadata": {
    "collapsed": false
   },
   "outputs": [],
   "source": [
    "feet = Dict(:left => findbody(mechanism, \"leftFoot\"), :right => findbody(mechanism, \"rightFoot\"))\n",
    "hands = Dict(:left => findbody(mechanism, \"leftPalm\"), :right => findbody(mechanism, \"rightPalm\"))\n",
    "robot_info = HumanoidRobotInfo(mechanism, feet, hands);"
   ]
  },
  {
   "cell_type": "code",
   "execution_count": 39,
   "metadata": {
    "collapsed": false
   },
   "outputs": [
    {
     "data": {
      "text/plain": [
       "MechanismState{Float64, Float64, Float64, …}(…)"
      ]
     },
     "execution_count": 39,
     "metadata": {},
     "output_type": "execute_result"
    }
   ],
   "source": [
    "state = MechanismState(mechanism)"
   ]
  },
  {
   "cell_type": "code",
   "execution_count": 40,
   "metadata": {
    "collapsed": false
   },
   "outputs": [
    {
     "data": {
      "text/plain": [
       "initialize (generic function with 1 method)"
      ]
     },
     "execution_count": 40,
     "metadata": {},
     "output_type": "execute_result"
    }
   ],
   "source": [
    "function initialize(state::MechanismState, val::Valkyrie, vis::Visualizer)\n",
    "    zero!(state)\n",
    "    kneebend = 1.1\n",
    "    hipbendextra = 0.1\n",
    "    for side in instances(Side)\n",
    "        set_configuration!(state, val.knees[side], [kneebend])\n",
    "        set_configuration!(state, val.hippitches[side], [-kneebend / 2 + hipbendextra])\n",
    "        set_configuration!(state, val.anklepitches[side], [-kneebend / 2 - hipbendextra])\n",
    "    end\n",
    "    set_configuration!(state, val.basejoint, [1; 0; 0; 0; 0; 0; 1.05]) # TODO\n",
    "    settransform!(vis, state)\n",
    "end"
   ]
  },
  {
   "cell_type": "code",
   "execution_count": 41,
   "metadata": {
    "collapsed": false
   },
   "outputs": [
    {
     "data": {
      "text/plain": [
       "periodic_lcm_controller (generic function with 1 method)"
      ]
     },
     "execution_count": 41,
     "metadata": {},
     "output_type": "execute_result"
    }
   ],
   "source": [
    "function periodic_lcm_controller(robot_info::HumanoidRobotInfo{T}, Δt::Number) where T\n",
    "    lcmcontroller = LCMController(robot_info)\n",
    "    controller = PeriodicController{T}(num_velocities(robot_info.mechanism), Δt, lcmcontroller)\n",
    "    initialize_lcmcontroller = (c, t, u, integrator) -> ValkyrieLCMSim.initialize!(lcmcontroller)\n",
    "    periodic_control_callback = PeriodicCallback(controller, initialize = initialize_lcmcontroller)\n",
    "    controller, periodic_control_callback\n",
    "end"
   ]
  },
  {
   "cell_type": "code",
   "execution_count": 42,
   "metadata": {
    "collapsed": false
   },
   "outputs": [
    {
     "ename": "LoadError",
     "evalue": "\u001b[91mInterruptException:\u001b[39m",
     "output_type": "error",
     "traceback": [
      "\u001b[91mInterruptException:\u001b[39m",
      "",
      "Stacktrace:",
      " [1] \u001b[1mpotrf!\u001b[22m\u001b[22m\u001b[1m(\u001b[22m\u001b[22m::Char, ::Array{Float64,2}\u001b[1m)\u001b[22m\u001b[22m at \u001b[1m./linalg/lapack.jl:2969\u001b[22m\u001b[22m",
      " [2] \u001b[1mdynamics_solve!\u001b[22m\u001b[22m\u001b[1m(\u001b[22m\u001b[22m::RigidBodyDynamics.DynamicsResult{Float64,Float64}, ::Array{Float64,1}\u001b[1m)\u001b[22m\u001b[22m at \u001b[1m/home/twan/code/RigidBodyDynamics/v0.6/RigidBodyDynamics/src/mechanism_algorithms.jl:637\u001b[22m\u001b[22m",
      " [3] \u001b[1mdynamics!\u001b[22m\u001b[22m\u001b[1m(\u001b[22m\u001b[22m::RigidBodyDynamics.DynamicsResult{Float64,Float64}, ::RigidBodyDynamics.MechanismState{Float64,Float64,Float64,TypeSortedCollections.TypeSortedCollection{Tuple{Array{RigidBodyDynamics.Joint{Float64,RigidBodyDynamics.QuaternionFloating{Float64}},1},Array{RigidBodyDynamics.Joint{Float64,RigidBodyDynamics.Revolute{Float64}},1}},2}}, ::Array{Float64,1}, ::RigidBodyDynamics.CustomCollections.NullDict{RigidBodyDynamics.RigidBody{Float64},RigidBodyDynamics.Spatial.Wrench{Float64}}\u001b[1m)\u001b[22m\u001b[22m at \u001b[1m/home/twan/code/RigidBodyDynamics/v0.6/RigidBodyDynamics/src/mechanism_algorithms.jl:729\u001b[22m\u001b[22m",
      " [4] \u001b[1m(::RigidBodySim.##6#7{RigidBodySim.PeriodicController{Float64,Float64,ValkyrieLCMSim.LCMController},Array{Float64,1},RigidBodyDynamics.DynamicsResult{Float64,Float64},RigidBodyDynamics.MechanismState{Float64,Float64,Float64,TypeSortedCollections.TypeSortedCollection{Tuple{Array{RigidBodyDynamics.Joint{Float64,RigidBodyDynamics.QuaternionFloating{Float64}},1},Array{RigidBodyDynamics.Joint{Float64,RigidBodyDynamics.Revolute{Float64}},1}},2}}})\u001b[22m\u001b[22m\u001b[1m(\u001b[22m\u001b[22m::Float64, ::Array{Float64,1}, ::Array{Float64,1}\u001b[1m)\u001b[22m\u001b[22m at \u001b[1m/home/twan/code/RigidBodyDynamics/v0.6/RigidBodySim/src/core.jl:21\u001b[22m\u001b[22m",
      " [5] \u001b[1mperform_step!\u001b[22m\u001b[22m\u001b[1m(\u001b[22m\u001b[22m::OrdinaryDiffEq.ODEIntegrator{OrdinaryDiffEq.Tsit5,Array{Float64,1},Float64,Float64,Float64,Array{Array{Float64,1},1},DiffEqBase.ODESolution{Float64,2,Array{Array{Float64,1},1},Void,Void,Array{Float64,1},Array{Array{Array{Float64,1},1},1},DiffEqBase.ODEProblem{Array{Float64,1},Float64,true,RigidBodySim.##6#7{RigidBodySim.PeriodicController{Float64,Float64,ValkyrieLCMSim.LCMController},Array{Float64,1},RigidBodyDynamics.DynamicsResult{Float64,Float64},RigidBodyDynamics.MechanismState{Float64,Float64,Float64,TypeSortedCollections.TypeSortedCollection{Tuple{Array{RigidBodyDynamics.Joint{Float64,RigidBodyDynamics.QuaternionFloating{Float64}},1},Array{RigidBodyDynamics.Joint{Float64,RigidBodyDynamics.Revolute{Float64}},1}},2}}},Void,UniformScaling{Int64},DiffEqBase.StandardODEProblem},OrdinaryDiffEq.Tsit5,OrdinaryDiffEq.InterpolationData{RigidBodySim.##6#7{RigidBodySim.PeriodicController{Float64,Float64,ValkyrieLCMSim.LCMController},Array{Float64,1},RigidBodyDynamics.DynamicsResult{Float64,Float64},RigidBodyDynamics.MechanismState{Float64,Float64,Float64,TypeSortedCollections.TypeSortedCollection{Tuple{Array{RigidBodyDynamics.Joint{Float64,RigidBodyDynamics.QuaternionFloating{Float64}},1},Array{RigidBodyDynamics.Joint{Float64,RigidBodyDynamics.Revolute{Float64}},1}},2}}},Array{Array{Float64,1},1},Array{Float64,1},Array{Array{Array{Float64,1},1},1},OrdinaryDiffEq.Tsit5Cache{Array{Float64,1},Array{Float64,1},Array{Float64,1},Array{Float64,1},OrdinaryDiffEq.Tsit5ConstantCache{Float64,Float64}}}},RigidBodySim.##6#7{RigidBodySim.PeriodicController{Float64,Float64,ValkyrieLCMSim.LCMController},Array{Float64,1},RigidBodyDynamics.DynamicsResult{Float64,Float64},RigidBodyDynamics.MechanismState{Float64,Float64,Float64,TypeSortedCollections.TypeSortedCollection{Tuple{Array{RigidBodyDynamics.Joint{Float64,RigidBodyDynamics.QuaternionFloating{Float64}},1},Array{RigidBodyDynamics.Joint{Float64,RigidBodyDynamics.Revolute{Float64}},1}},2}}},Void,OrdinaryDiffEq.Tsit5Cache{Array{Float64,1},Array{Float64,1},Array{Float64,1},Array{Float64,1},OrdinaryDiffEq.Tsit5ConstantCache{Float64,Float64}},OrdinaryDiffEq.DEOptions{Float64,Float64,Float64,Float64,DiffEqBase.#ODE_DEFAULT_NORM,DiffEqBase.CallbackSet{Tuple{},Tuple{DiffEqBase.DiscreteCallback{DiffEqCallbacks.##40#43{Base.RefValue{Float64}},DiffEqCallbacks.##41#44{RigidBodySim.##3#5{RigidBodySim.PeriodicController{Float64,Float64,ValkyrieLCMSim.LCMController}},Float64,Base.RefValue{Float64}},DiffEqCallbacks.##42#45{RigidBodySim.##2#4{##13#14{ValkyrieLCMSim.LCMController},RigidBodySim.PeriodicController{Float64,Float64,ValkyrieLCMSim.LCMController}},Bool,Float64,Base.RefValue{Float64},DiffEqCallbacks.##41#44{RigidBodySim.##3#5{RigidBodySim.PeriodicController{Float64,Float64,ValkyrieLCMSim.LCMController}},Float64,Base.RefValue{Float64}}}},DiffEqBase.DiscreteCallback{RigidBodySim.##22#24{Float64,Base.RefValue{Float64}},RigidBodySim.##23#25{Base.RefValue{Float64},DrakeVisualizer.Visualizer,RigidBodyDynamics.MechanismState{Float64,Float64,Float64,TypeSortedCollections.TypeSortedCollection{Tuple{Array{RigidBodyDynamics.Joint{Float64,RigidBodyDynamics.QuaternionFloating{Float64}},1},Array{RigidBodyDynamics.Joint{Float64,RigidBodyDynamics.Revolute{Float64}},1}},2}}},DiffEqBase.#INITIALIZE_DEFAULT},DiffEqBase.DiscreteCallback{RigidBodySim.##15#18,RigidBodySim.##16#19{Float64,RigidBodySim.SimulationCommands},RigidBodySim.##17#20{RigidBodySim.SimulationCommands}}}},DiffEqBase.#ODE_DEFAULT_ISOUTOFDOMAIN,DiffEqBase.#ODE_DEFAULT_PROG_MESSAGE,DiffEqBase.#ODE_DEFAULT_UNSTABLE_CHECK,DataStructures.BinaryHeap{Float64,DataStructures.LessThan},DataStructures.BinaryHeap{Float64,DataStructures.LessThan},Void,Void,Int64,Array{Float64,1},Array{Float64,1},Array{Float64,1}},Array{Float64,1}}, ::OrdinaryDiffEq.Tsit5Cache{Array{Float64,1},Array{Float64,1},Array{Float64,1},Array{Float64,1},OrdinaryDiffEq.Tsit5ConstantCache{Float64,Float64}}, ::Bool\u001b[1m)\u001b[22m\u001b[22m at \u001b[1m/home/twan/code/RigidBodyDynamics/v0.6/OrdinaryDiffEq/src/perform_step/low_order_rk_perform_step.jl:580\u001b[22m\u001b[22m",
      " [6] \u001b[1msolve!\u001b[22m\u001b[22m\u001b[1m(\u001b[22m\u001b[22m::OrdinaryDiffEq.ODEIntegrator{OrdinaryDiffEq.Tsit5,Array{Float64,1},Float64,Float64,Float64,Array{Array{Float64,1},1},DiffEqBase.ODESolution{Float64,2,Array{Array{Float64,1},1},Void,Void,Array{Float64,1},Array{Array{Array{Float64,1},1},1},DiffEqBase.ODEProblem{Array{Float64,1},Float64,true,RigidBodySim.##6#7{RigidBodySim.PeriodicController{Float64,Float64,ValkyrieLCMSim.LCMController},Array{Float64,1},RigidBodyDynamics.DynamicsResult{Float64,Float64},RigidBodyDynamics.MechanismState{Float64,Float64,Float64,TypeSortedCollections.TypeSortedCollection{Tuple{Array{RigidBodyDynamics.Joint{Float64,RigidBodyDynamics.QuaternionFloating{Float64}},1},Array{RigidBodyDynamics.Joint{Float64,RigidBodyDynamics.Revolute{Float64}},1}},2}}},Void,UniformScaling{Int64},DiffEqBase.StandardODEProblem},OrdinaryDiffEq.Tsit5,OrdinaryDiffEq.InterpolationData{RigidBodySim.##6#7{RigidBodySim.PeriodicController{Float64,Float64,ValkyrieLCMSim.LCMController},Array{Float64,1},RigidBodyDynamics.DynamicsResult{Float64,Float64},RigidBodyDynamics.MechanismState{Float64,Float64,Float64,TypeSortedCollections.TypeSortedCollection{Tuple{Array{RigidBodyDynamics.Joint{Float64,RigidBodyDynamics.QuaternionFloating{Float64}},1},Array{RigidBodyDynamics.Joint{Float64,RigidBodyDynamics.Revolute{Float64}},1}},2}}},Array{Array{Float64,1},1},Array{Float64,1},Array{Array{Array{Float64,1},1},1},OrdinaryDiffEq.Tsit5Cache{Array{Float64,1},Array{Float64,1},Array{Float64,1},Array{Float64,1},OrdinaryDiffEq.Tsit5ConstantCache{Float64,Float64}}}},RigidBodySim.##6#7{RigidBodySim.PeriodicController{Float64,Float64,ValkyrieLCMSim.LCMController},Array{Float64,1},RigidBodyDynamics.DynamicsResult{Float64,Float64},RigidBodyDynamics.MechanismState{Float64,Float64,Float64,TypeSortedCollections.TypeSortedCollection{Tuple{Array{RigidBodyDynamics.Joint{Float64,RigidBodyDynamics.QuaternionFloating{Float64}},1},Array{RigidBodyDynamics.Joint{Float64,RigidBodyDynamics.Revolute{Float64}},1}},2}}},Void,OrdinaryDiffEq.Tsit5Cache{Array{Float64,1},Array{Float64,1},Array{Float64,1},Array{Float64,1},OrdinaryDiffEq.Tsit5ConstantCache{Float64,Float64}},OrdinaryDiffEq.DEOptions{Float64,Float64,Float64,Float64,DiffEqBase.#ODE_DEFAULT_NORM,DiffEqBase.CallbackSet{Tuple{},Tuple{DiffEqBase.DiscreteCallback{DiffEqCallbacks.##40#43{Base.RefValue{Float64}},DiffEqCallbacks.##41#44{RigidBodySim.##3#5{RigidBodySim.PeriodicController{Float64,Float64,ValkyrieLCMSim.LCMController}},Float64,Base.RefValue{Float64}},DiffEqCallbacks.##42#45{RigidBodySim.##2#4{##13#14{ValkyrieLCMSim.LCMController},RigidBodySim.PeriodicController{Float64,Float64,ValkyrieLCMSim.LCMController}},Bool,Float64,Base.RefValue{Float64},DiffEqCallbacks.##41#44{RigidBodySim.##3#5{RigidBodySim.PeriodicController{Float64,Float64,ValkyrieLCMSim.LCMController}},Float64,Base.RefValue{Float64}}}},DiffEqBase.DiscreteCallback{RigidBodySim.##22#24{Float64,Base.RefValue{Float64}},RigidBodySim.##23#25{Base.RefValue{Float64},DrakeVisualizer.Visualizer,RigidBodyDynamics.MechanismState{Float64,Float64,Float64,TypeSortedCollections.TypeSortedCollection{Tuple{Array{RigidBodyDynamics.Joint{Float64,RigidBodyDynamics.QuaternionFloating{Float64}},1},Array{RigidBodyDynamics.Joint{Float64,RigidBodyDynamics.Revolute{Float64}},1}},2}}},DiffEqBase.#INITIALIZE_DEFAULT},DiffEqBase.DiscreteCallback{RigidBodySim.##15#18,RigidBodySim.##16#19{Float64,RigidBodySim.SimulationCommands},RigidBodySim.##17#20{RigidBodySim.SimulationCommands}}}},DiffEqBase.#ODE_DEFAULT_ISOUTOFDOMAIN,DiffEqBase.#ODE_DEFAULT_PROG_MESSAGE,DiffEqBase.#ODE_DEFAULT_UNSTABLE_CHECK,DataStructures.BinaryHeap{Float64,DataStructures.LessThan},DataStructures.BinaryHeap{Float64,DataStructures.LessThan},Void,Void,Int64,Array{Float64,1},Array{Float64,1},Array{Float64,1}},Array{Float64,1}}\u001b[1m)\u001b[22m\u001b[22m at \u001b[1m/home/twan/code/RigidBodyDynamics/v0.6/OrdinaryDiffEq/src/solve.jl:323\u001b[22m\u001b[22m",
      " [7] \u001b[1m#solve#1314\u001b[22m\u001b[22m\u001b[1m(\u001b[22m\u001b[22m::Array{Any,1}, ::Function, ::DiffEqBase.ODEProblem{Array{Float64,1},Float64,true,RigidBodySim.##6#7{RigidBodySim.PeriodicController{Float64,Float64,ValkyrieLCMSim.LCMController},Array{Float64,1},RigidBodyDynamics.DynamicsResult{Float64,Float64},RigidBodyDynamics.MechanismState{Float64,Float64,Float64,TypeSortedCollections.TypeSortedCollection{Tuple{Array{RigidBodyDynamics.Joint{Float64,RigidBodyDynamics.QuaternionFloating{Float64}},1},Array{RigidBodyDynamics.Joint{Float64,RigidBodyDynamics.Revolute{Float64}},1}},2}}},Void,UniformScaling{Int64},DiffEqBase.StandardODEProblem}, ::OrdinaryDiffEq.Tsit5, ::Array{Any,1}, ::Array{Any,1}, ::Array{Any,1}, ::Type{Val{true}}\u001b[1m)\u001b[22m\u001b[22m at \u001b[1m/home/twan/code/RigidBodyDynamics/v0.6/OrdinaryDiffEq/src/solve.jl:7\u001b[22m\u001b[22m",
      " [8] \u001b[1m(::DiffEqBase.#kw##solve)\u001b[22m\u001b[22m\u001b[1m(\u001b[22m\u001b[22m::Array{Any,1}, ::DiffEqBase.#solve, ::DiffEqBase.ODEProblem{Array{Float64,1},Float64,true,RigidBodySim.##6#7{RigidBodySim.PeriodicController{Float64,Float64,ValkyrieLCMSim.LCMController},Array{Float64,1},RigidBodyDynamics.DynamicsResult{Float64,Float64},RigidBodyDynamics.MechanismState{Float64,Float64,Float64,TypeSortedCollections.TypeSortedCollection{Tuple{Array{RigidBodyDynamics.Joint{Float64,RigidBodyDynamics.QuaternionFloating{Float64}},1},Array{RigidBodyDynamics.Joint{Float64,RigidBodyDynamics.Revolute{Float64}},1}},2}}},Void,UniformScaling{Int64},DiffEqBase.StandardODEProblem}, ::OrdinaryDiffEq.Tsit5, ::Array{Any,1}, ::Array{Any,1}, ::Array{Any,1}, ::Type{Val{true}}\u001b[1m)\u001b[22m\u001b[22m at \u001b[1m./<missing>:0\u001b[22m\u001b[22m (repeats 2 times)",
      " [9] \u001b[1minclude_string\u001b[22m\u001b[22m\u001b[1m(\u001b[22m\u001b[22m::String, ::String\u001b[1m)\u001b[22m\u001b[22m at \u001b[1m./loading.jl:522\u001b[22m\u001b[22m"
     ]
    }
   ],
   "source": [
    "controller, periodic_control_callback = periodic_lcm_controller(robot_info, 1 / 300)\n",
    "initialize(state, val, vis)\n",
    "final_time = Inf\n",
    "problem = ODEProblem(state, (0., final_time), controller)\n",
    "callbacks = CallbackSet(periodic_control_callback, CallbackSet(vis, state))\n",
    "sol = solve(problem, Tsit5(), abs_tol = 1e-10, dt = 0.05, callback = callbacks);"
   ]
  },
  {
   "cell_type": "code",
   "execution_count": 43,
   "metadata": {
    "collapsed": false
   },
   "outputs": [],
   "source": [
    "# animate(vis, state, sol)"
   ]
  },
  {
   "cell_type": "code",
   "execution_count": 44,
   "metadata": {
    "collapsed": false
   },
   "outputs": [],
   "source": [
    "# function testfunc(controller, τ, t, state, n)\n",
    "#     for i = 1 : n\n",
    "#         controller(τ, t, state)\n",
    "#     end\n",
    "# end\n",
    "\n",
    "# testfunc(controller, τ, t, state, 1)\n",
    "# Profile.clear_malloc_data()\n",
    "# @profile testfunc(controller, τ, t, state, 100000)\n",
    "\n",
    "# using ProfileView\n",
    "# ProfileView.view()"
   ]
  }
 ],
 "metadata": {
  "kernelspec": {
   "display_name": "Julia 0.6.1",
   "language": "julia",
   "name": "julia-0.6"
  },
  "language_info": {
   "file_extension": ".jl",
   "mimetype": "application/julia",
   "name": "julia",
   "version": "0.6.2"
  }
 },
 "nbformat": 4,
 "nbformat_minor": 1
}
